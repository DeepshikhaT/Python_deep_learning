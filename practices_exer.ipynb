{
  "nbformat": 4,
  "nbformat_minor": 0,
  "metadata": {
    "colab": {
      "provenance": [],
      "authorship_tag": "ABX9TyPze+a53i9A4Gxw4Xm2NPtM",
      "include_colab_link": true
    },
    "kernelspec": {
      "name": "python3",
      "display_name": "Python 3"
    },
    "language_info": {
      "name": "python"
    }
  },
  "cells": [
    {
      "cell_type": "markdown",
      "metadata": {
        "id": "view-in-github",
        "colab_type": "text"
      },
      "source": [
        "<a href=\"https://colab.research.google.com/github/DeepshikhaT/Python_deep_learning/blob/main/practices_exer.ipynb\" target=\"_parent\"><img src=\"https://colab.research.google.com/assets/colab-badge.svg\" alt=\"Open In Colab\"/></a>"
      ]
    },
    {
      "cell_type": "code",
      "execution_count": null,
      "metadata": {
        "id": "TfBO4tjQLvj3"
      },
      "outputs": [],
      "source": [
        "class Solutions:\n",
        "  def twoSum(self, nums: list, target: int):\n",
        "    d ={}\n",
        "    for i, n in enumerate(nums):\n",
        "      m = target - n\n",
        "      if m in d:\n",
        "        return [d[m], i]\n",
        "      else:\n",
        "        d[n] = i\n",
        "    return"
      ]
    },
    {
      "cell_type": "code",
      "source": [
        "def decimal_zip(a, b):\n",
        "  str_a = str(a)\n",
        "  str_b = str(b)\n",
        "  zipped_digits = ''.join(x + y for x, y in zip(str_a, str_b))\n",
        "  remaining_digits = str_a[len(str_b):] if len(str_a) > len(str_b) else str_b[len(str_a):]\n",
        "  return int(zipped_digits + remaining_digits)\n",
        "\n",
        "print(decimal_zip(123, 4567))"
      ],
      "metadata": {
        "colab": {
          "base_uri": "https://localhost:8080/"
        },
        "id": "IEItn5_qel48",
        "outputId": "4bcb86f9-1aaf-4b47-96b8-8b882c3abe44"
      },
      "execution_count": null,
      "outputs": [
        {
          "output_type": "stream",
          "name": "stdout",
          "text": [
            "1425367\n"
          ]
        }
      ]
    },
    {
      "cell_type": "code",
      "source": [],
      "metadata": {
        "id": "mss-eeIuemQl"
      },
      "execution_count": null,
      "outputs": []
    },
    {
      "cell_type": "code",
      "source": [],
      "metadata": {
        "id": "_YVS3Pdiemx8"
      },
      "execution_count": null,
      "outputs": []
    },
    {
      "cell_type": "code",
      "source": [
        "from itertools import permutations\n",
        "\n",
        "def solution(A, B, C, D):\n",
        "    # Implement your solution here\n",
        "    digits = [str(A), str(B), str(C), str(D)]\n",
        "    perms = permutations(digits)\n",
        "    max_time = -1\n",
        "    max_time_str = \"\"\n",
        "\n",
        "    for perm in perms:\n",
        "        hours = int(perm[0] + perm[1])\n",
        "        minu  = int(perm[2]+perm[3])\n",
        "\n",
        "        if 0 <= hours <= 24 and 0 <= minu <60:\n",
        "            total_min = hours * 60 + minu\n",
        "\n",
        "            if total_min > max_time:\n",
        "                max_time = total_min\n",
        "                max_time_str = f\"{perm[0]}{perm[1]}:{perm[2]}{perm[3]}\"\n",
        "    return max_time_str if max_time_str else \"NOT POSSIBLE\"\n",
        "\n",
        "\n",
        "print(solution(1,8,3,2))"
      ],
      "metadata": {
        "colab": {
          "base_uri": "https://localhost:8080/"
        },
        "id": "EGn6KeT8Aqcr",
        "outputId": "758dc46f-bb70-4205-ec96-2267ceac8374"
      },
      "execution_count": null,
      "outputs": [
        {
          "output_type": "stream",
          "name": "stdout",
          "text": [
            "23:18\n"
          ]
        }
      ]
    },
    {
      "cell_type": "code",
      "source": [
        "def mincost(A):\n",
        "  costs = [2, 7, 25]\n",
        "  n = len(A)\n",
        "  last_day = A[-1]\n",
        "  dp = [0] * (last_day + 1)\n",
        "  travel_days = set(A)\n",
        "  for i in range(1, last_day + 1):\n",
        "    if i not in travel_days:\n",
        "      dp[i] = dp[i-1]\n",
        "    else:\n",
        "      dp[i] = min(dp[max(0, i-3)] + costs[0], dp[max(0, i-7)] + costs[1], dp[max(0, i-30)] + costs[2])\n",
        "\n",
        "  return dp[last_day]\n",
        "\n"
      ],
      "metadata": {
        "id": "Nzmqu-78EncX"
      },
      "execution_count": null,
      "outputs": []
    },
    {
      "cell_type": "code",
      "source": [
        "\n",
        "class Solution:\n",
        "  def addTwoNumbers(self, l1, l2):\n",
        "    if not l1 or not l2:\n",
        "      return l1 or l2\n",
        "\n",
        "\n"
      ],
      "metadata": {
        "id": "G6dTRmA4MYE5"
      },
      "execution_count": null,
      "outputs": []
    },
    {
      "cell_type": "code",
      "source": [
        "class Solution:\n",
        "  def isPalindrome(self, x: int) -> bool:\n",
        "    if x <0:\n",
        "      return False\n",
        "    else:\n",
        "      return str(x) == str(x)[::-1]\n"
      ],
      "metadata": {
        "id": "XgCGGmCR-Efa"
      },
      "execution_count": null,
      "outputs": []
    },
    {
      "cell_type": "code",
      "source": [
        "class Solution:\n",
        "  def romanToInt(self, s: str):\n",
        "\n",
        "\n",
        "#\n",
        "#\n",
        "\n",
        "#"
      ],
      "metadata": {
        "id": "_Apoo0cE-KcF"
      },
      "execution_count": null,
      "outputs": []
    },
    {
      "cell_type": "code",
      "source": [
        "from itertools import takewhile\n",
        "class Solution:\n",
        "  def longestCommonPrefix(self, strs):\n",
        "    if not strs:\n",
        "      return \"\"\n",
        "    wer = zip(*strs)0\n",
        "    print(list(w))\n",
        "\n",
        "s = Solution()\n",
        "print(s.longestCommonPrefix([\"flower\",\"flow\",\"flight\"]))"
      ],
      "metadata": {
        "id": "MUgTMvoK-1VF",
        "colab": {
          "base_uri": "https://localhost:8080/"
        },
        "outputId": "e654d9a3-fd36-460a-fcd4-aad85a0676c1"
      },
      "execution_count": null,
      "outputs": [
        {
          "output_type": "stream",
          "name": "stdout",
          "text": [
            "['f', 'l']\n",
            "None\n"
          ]
        }
      ]
    },
    {
      "cell_type": "code",
      "source": [
        "class Solution:\n",
        "  def isValid(self, s: str) -> bool:\n",
        "    stack = []\n",
        "    mapping = {\")\": \"(\", \"}\": \"{\", \"]\": \"[\"}\n",
        "    for char in s:\n",
        "      if char in mapping:\n",
        "        top_element = stack.pop() if stack else '#'\n",
        "        if mapping[char] != top_element:\n",
        "          return False\n",
        "      else:\n",
        "        stack.append(char)\n",
        "    return not stack\n",
        "\n",
        "#\n",
        "#"
      ],
      "metadata": {
        "id": "U8cJSum_-4_q"
      },
      "execution_count": null,
      "outputs": []
    },
    {
      "cell_type": "code",
      "source": [
        "class Solution:\n",
        "  def generateParenthesis(self, n: int) -> List[str]:\n",
        "\n",
        "\n",
        "#\n",
        "#"
      ],
      "metadata": {
        "id": "7Bol9oix-69J"
      },
      "execution_count": null,
      "outputs": []
    },
    {
      "cell_type": "code",
      "source": [
        "from collections import defaultdict\n",
        "class Solution:\n",
        "  def singleNumber(self, nums):\n",
        "    hastable= defaultdict(int)\n",
        "    for i in enumerate(nums):\n",
        "      hastable[i] += 1\n",
        "    for k,v in hastable.items():\n",
        "      if v == 1:\n",
        "        return k\n",
        "\n",
        "  def singleNumber1(self, nums):\n",
        "    result = 0\n",
        "    for num in nums:\n",
        "      result ^=num\n",
        "    return result\n",
        "\n",
        "#\n",
        "#"
      ],
      "metadata": {
        "colab": {
          "base_uri": "https://localhost:8080/",
          "height": 332
        },
        "id": "WoLXqTxt-9PL",
        "outputId": "57c9121d-7980-4868-93c3-b57b7c43b0cc"
      },
      "execution_count": null,
      "outputs": [
        {
          "output_type": "error",
          "ename": "NameError",
          "evalue": "name 'List' is not defined",
          "traceback": [
            "\u001b[0;31m---------------------------------------------------------------------------\u001b[0m",
            "\u001b[0;31mNameError\u001b[0m                                 Traceback (most recent call last)",
            "\u001b[0;32m<ipython-input-4-c3a26008c250>\u001b[0m in \u001b[0;36m<cell line: 1>\u001b[0;34m()\u001b[0m\n\u001b[0;32m----> 1\u001b[0;31m \u001b[0;32mclass\u001b[0m \u001b[0mSolution\u001b[0m\u001b[0;34m:\u001b[0m\u001b[0;34m\u001b[0m\u001b[0;34m\u001b[0m\u001b[0m\n\u001b[0m\u001b[1;32m      2\u001b[0m   \u001b[0;32mdef\u001b[0m \u001b[0msingleNumber\u001b[0m\u001b[0;34m(\u001b[0m\u001b[0mself\u001b[0m\u001b[0;34m,\u001b[0m \u001b[0mnums\u001b[0m\u001b[0;34m:\u001b[0m \u001b[0mList\u001b[0m\u001b[0;34m[\u001b[0m\u001b[0mint\u001b[0m\u001b[0;34m]\u001b[0m\u001b[0;34m)\u001b[0m \u001b[0;34m->\u001b[0m \u001b[0mList\u001b[0m\u001b[0;34m[\u001b[0m\u001b[0mList\u001b[0m\u001b[0;34m[\u001b[0m\u001b[0mint\u001b[0m\u001b[0;34m]\u001b[0m\u001b[0;34m]\u001b[0m\u001b[0;34m:\u001b[0m\u001b[0;34m\u001b[0m\u001b[0;34m\u001b[0m\u001b[0m\n\u001b[1;32m      3\u001b[0m     \u001b[0mhastable\u001b[0m\u001b[0;34m=\u001b[0m \u001b[0mdefaultdict\u001b[0m\u001b[0;34m(\u001b[0m\u001b[0mint\u001b[0m\u001b[0;34m)\u001b[0m\u001b[0;34m\u001b[0m\u001b[0;34m\u001b[0m\u001b[0m\n\u001b[1;32m      4\u001b[0m     \u001b[0;32mfor\u001b[0m \u001b[0mi\u001b[0m \u001b[0;32min\u001b[0m \u001b[0menumerate\u001b[0m\u001b[0;34m(\u001b[0m\u001b[0mnums\u001b[0m\u001b[0;34m)\u001b[0m\u001b[0;34m:\u001b[0m\u001b[0;34m\u001b[0m\u001b[0;34m\u001b[0m\u001b[0m\n\u001b[1;32m      5\u001b[0m       \u001b[0mhastable\u001b[0m\u001b[0;34m[\u001b[0m\u001b[0mi\u001b[0m\u001b[0;34m]\u001b[0m \u001b[0;34m+=\u001b[0m \u001b[0;36m1\u001b[0m\u001b[0;34m\u001b[0m\u001b[0;34m\u001b[0m\u001b[0m\n",
            "\u001b[0;32m<ipython-input-4-c3a26008c250>\u001b[0m in \u001b[0;36mSolution\u001b[0;34m()\u001b[0m\n\u001b[1;32m      1\u001b[0m \u001b[0;32mclass\u001b[0m \u001b[0mSolution\u001b[0m\u001b[0;34m:\u001b[0m\u001b[0;34m\u001b[0m\u001b[0;34m\u001b[0m\u001b[0m\n\u001b[0;32m----> 2\u001b[0;31m   \u001b[0;32mdef\u001b[0m \u001b[0msingleNumber\u001b[0m\u001b[0;34m(\u001b[0m\u001b[0mself\u001b[0m\u001b[0;34m,\u001b[0m \u001b[0mnums\u001b[0m\u001b[0;34m:\u001b[0m \u001b[0mList\u001b[0m\u001b[0;34m[\u001b[0m\u001b[0mint\u001b[0m\u001b[0;34m]\u001b[0m\u001b[0;34m)\u001b[0m \u001b[0;34m->\u001b[0m \u001b[0mList\u001b[0m\u001b[0;34m[\u001b[0m\u001b[0mList\u001b[0m\u001b[0;34m[\u001b[0m\u001b[0mint\u001b[0m\u001b[0;34m]\u001b[0m\u001b[0;34m]\u001b[0m\u001b[0;34m:\u001b[0m\u001b[0;34m\u001b[0m\u001b[0;34m\u001b[0m\u001b[0m\n\u001b[0m\u001b[1;32m      3\u001b[0m     \u001b[0mhastable\u001b[0m\u001b[0;34m=\u001b[0m \u001b[0mdefaultdict\u001b[0m\u001b[0;34m(\u001b[0m\u001b[0mint\u001b[0m\u001b[0;34m)\u001b[0m\u001b[0;34m\u001b[0m\u001b[0;34m\u001b[0m\u001b[0m\n\u001b[1;32m      4\u001b[0m     \u001b[0;32mfor\u001b[0m \u001b[0mi\u001b[0m \u001b[0;32min\u001b[0m \u001b[0menumerate\u001b[0m\u001b[0;34m(\u001b[0m\u001b[0mnums\u001b[0m\u001b[0;34m)\u001b[0m\u001b[0;34m:\u001b[0m\u001b[0;34m\u001b[0m\u001b[0;34m\u001b[0m\u001b[0m\n\u001b[1;32m      5\u001b[0m       \u001b[0mhastable\u001b[0m\u001b[0;34m[\u001b[0m\u001b[0mi\u001b[0m\u001b[0;34m]\u001b[0m \u001b[0;34m+=\u001b[0m \u001b[0;36m1\u001b[0m\u001b[0;34m\u001b[0m\u001b[0;34m\u001b[0m\u001b[0m\n",
            "\u001b[0;31mNameError\u001b[0m: name 'List' is not defined"
          ]
        }
      ]
    },
    {
      "cell_type": "code",
      "source": [
        "class Solution:\n",
        "  def majorityElement(self, nums):\n",
        "    nums.sort()\n",
        "    return nums[len(nums)//2]\n",
        "\n",
        "  def majorityElement1(self, nums):\n",
        "    count = 0\n",
        "    candidate = None\n",
        "    for num in nums:\n",
        "      if count == 0:\n",
        "        candidate = num\n",
        "      count += (1 if num == candidate else -1)\n",
        "    return candidate\n",
        "\n",
        "#\n",
        "#\n",
        "#"
      ],
      "metadata": {
        "id": "nIyeGUzS_XeS"
      },
      "execution_count": null,
      "outputs": []
    },
    {
      "cell_type": "code",
      "source": [
        "class Solution:\n",
        "  def maxProfit(self, prices: List[int]) -> int:\n",
        "    max_profit = 0\n",
        "    min_price = float('inf')\n",
        "    for price in prices:\n",
        "      min_price = min(min_price, price)\n",
        "      max_profit = max(max_profit, price - min_price)\n",
        "    return max_profit\n",
        "\n",
        "    def maxProfit1(self, prices):\n",
        "      max_profit =0\n",
        "      min_price = prices[0]\n",
        "      for price in prices:\n",
        "        if price < min_price:\n",
        "          price = min_price\n",
        "        elif price - min_price > max_profit:\n",
        "          max_profit = price - min_price\n",
        "      return max_profit\n",
        "\n",
        "\n",
        "#\n",
        "#\n",
        "#\n",
        "#\n",
        "#"
      ],
      "metadata": {
        "colab": {
          "base_uri": "https://localhost:8080/",
          "height": 106
        },
        "id": "g-X1YWBXEMEO",
        "outputId": "82b869e0-c860-4485-d73b-9aca2cc8d439"
      },
      "execution_count": null,
      "outputs": [
        {
          "output_type": "error",
          "ename": "SyntaxError",
          "evalue": "incomplete input (<ipython-input-5-99fd24dbc0d3>, line 21)",
          "traceback": [
            "\u001b[0;36m  File \u001b[0;32m\"<ipython-input-5-99fd24dbc0d3>\"\u001b[0;36m, line \u001b[0;32m21\u001b[0m\n\u001b[0;31m    #\u001b[0m\n\u001b[0m     ^\u001b[0m\n\u001b[0;31mSyntaxError\u001b[0m\u001b[0;31m:\u001b[0m incomplete input\n"
          ]
        }
      ]
    },
    {
      "cell_type": "code",
      "source": [
        "class Solution:\n",
        "  def removeDuplicates(self, nums):\n",
        "    if not nums:\n",
        "      return 0\n",
        "    i = 0\n",
        "    for j in range(1, len(nums)):\n",
        "      if nums[j] != nums[i]:\n",
        "        i += 1\n",
        "        nums[i] = nums[j]\n",
        "    return i + 1\n",
        "#\n",
        "#\n",
        "#\n",
        "[1,1,1,3,3,5,5,5,5,8,8,8,9]"
      ],
      "metadata": {
        "id": "0JAKMcfeGL7m"
      },
      "execution_count": null,
      "outputs": []
    },
    {
      "cell_type": "code",
      "source": [
        "nums= [0,0,1,1,1,1,2,3,3]\n",
        "k =2\n",
        "for i in range(2,len(nums)):\n",
        "  if nums[i] != nums[k-2]:\n",
        "    nums[k] = nums[i]\n",
        "    k= k +1\n",
        "\n",
        "print(nums)\n"
      ],
      "metadata": {
        "colab": {
          "base_uri": "https://localhost:8080/"
        },
        "id": "E2suPUZJvV8-",
        "outputId": "3dbc6fae-9244-4c47-fdc4-9e6e6bf7f009"
      },
      "execution_count": null,
      "outputs": [
        {
          "output_type": "stream",
          "name": "stdout",
          "text": [
            "[0, 0, 1, 1, 2, 3, 3, 3, 3]\n"
          ]
        }
      ]
    },
    {
      "cell_type": "code",
      "source": [
        "class Solution:\n",
        "  def cyclicRotation(self, nums, k):\n",
        "    if len(nums) == 0:\n",
        "      return nums\n",
        "    k = k % len(nums)\n",
        "    print(k)\n",
        "    return nums[-k:] + nums[:-k]\n",
        "\n",
        "s = Solution()\n",
        "print(s.cyclicRotation([1,2,3,4], 2))\n",
        "\n",
        "\n"
      ],
      "metadata": {
        "colab": {
          "base_uri": "https://localhost:8080/"
        },
        "id": "Z4km0j8IVwGM",
        "outputId": "132aca81-cde2-4300-d369-4b506a9c8633"
      },
      "execution_count": null,
      "outputs": [
        {
          "output_type": "stream",
          "name": "stdout",
          "text": [
            "2\n",
            "[3, 4, 1, 2]\n"
          ]
        }
      ]
    },
    {
      "cell_type": "code",
      "source": [
        "class Solution(object):\n",
        "    def cyclicrotate(self, nums, k):\n",
        "        \"\"\"\n",
        "        :type nums: List[int]\n",
        "        :type k: int\n",
        "        :rtype: None Do not return anything, modify nums in-place instead.\n",
        "        \"\"\"\n",
        "        if len(nums) == 0:\n",
        "            return nums\n",
        "        k = k % len(nums)\n",
        "        print(k)\n",
        "        return nums[-k:] + nums[:-k]\n",
        "s = Solution()\n",
        "print(s.cyclicrotate([1,2,3,4], 2))\n"
      ],
      "metadata": {
        "colab": {
          "base_uri": "https://localhost:8080/"
        },
        "id": "BDRzYKp6h6iW",
        "outputId": "3d12d5da-348d-47a0-963b-e9fdb231c89a"
      },
      "execution_count": null,
      "outputs": [
        {
          "output_type": "stream",
          "name": "stdout",
          "text": [
            "2\n",
            "[3, 4, 1, 2]\n"
          ]
        }
      ]
    },
    {
      "cell_type": "code",
      "source": [
        "class Solution:\n",
        "    def romanToInt(self, s: str):\n",
        "        # Define the mapping of Roman numerals to integers\n",
        "        roman_to_int = {\n",
        "            'I': 1,\n",
        "            'V': 5,\n",
        "            'X': 10,\n",
        "            'L': 50,\n",
        "            'C': 100,\n",
        "            'D': 500,\n",
        "            'M': 1000\n",
        "        }\n",
        "\n",
        "        total = 0\n",
        "        prev_value = 0\n",
        "\n",
        "        # Iterate over the Roman numeral string from left to right\n",
        "        for char in s:\n",
        "            current_value = roman_to_int[char]\n",
        "\n",
        "            # If the current value is greater than the previous value, it means we encountered a subtractive combination\n",
        "            if current_value > prev_value:\n",
        "                total += current_value - 2 * prev_value\n",
        "            else:\n",
        "                total += current_value\n",
        "\n",
        "            # Update the previous value\n",
        "            prev_value = current_value\n",
        "\n",
        "        return total\n",
        "\n",
        "# Example usage\n",
        "solution = Solution()\n",
        "print(solution.romanToInt(\"III\"))     # Output: 3\n",
        "print(solution.romanToInt(\"IV\"))      # Output: 4\n",
        "print(solution.romanToInt(\"IX\"))      # Output: 9\n",
        "print(solution.romanToInt(\"LVIII\"))   # Output: 58\n",
        "print(solution.romanToInt(\"MCMXCIV\")) # Output: 1994\n"
      ],
      "metadata": {
        "id": "to84VPUiYs7v"
      },
      "execution_count": null,
      "outputs": []
    },
    {
      "cell_type": "code",
      "source": [
        "class Solution:\n",
        "  def missingNumber(self, nums):\n",
        "    n = len(nums)\n",
        "    expected_sum = sum(range(1,len(nums)+1))\n",
        "    actual_sum = sum(nums)\n",
        "    return expected_sum - actual_sum\n",
        "  def missingNumber1(self, nums):\n",
        "    return 1 if (set(nums) == set(range(1,len(nums)+1))) else 0\n",
        "#\n",
        "s = Solution()\n",
        "print(s.missingNumber1([3,2,1,5]))\n",
        "\n"
      ],
      "metadata": {
        "colab": {
          "base_uri": "https://localhost:8080/"
        },
        "id": "t5sCq0iEWHWZ",
        "outputId": "2c29dbc7-b86a-44e3-be4a-6088f7bed326"
      },
      "execution_count": null,
      "outputs": [
        {
          "output_type": "stream",
          "name": "stdout",
          "text": [
            "0\n"
          ]
        }
      ]
    },
    {
      "cell_type": "code",
      "source": [
        "class Solution:\n",
        "  def oddOccurrencesInArray(self, nums):\n",
        "    result = 0\n",
        "    for num in nums:\n",
        "      result ^= num\n",
        "    return result\n",
        "#"
      ],
      "metadata": {
        "id": "T07-W9xSp954"
      },
      "execution_count": null,
      "outputs": []
    },
    {
      "cell_type": "code",
      "source": [
        "import math\n",
        "class Solution:\n",
        "  def frogJump(self, x, y , D):\n",
        "    distance = y - x\n",
        "    return math.ceil(distance/D)\n",
        "\n",
        "  def frogJump1(self, x, y , D):\n",
        "    if (y - x) % D == 0:\n",
        "      return True\n",
        "    else:\n",
        "      return False\n",
        "#\n",
        "s = Solution()\n",
        "print(s.frogJump(10,85,30))"
      ],
      "metadata": {
        "colab": {
          "base_uri": "https://localhost:8080/"
        },
        "id": "zXg-REZ9unQA",
        "outputId": "f1b92b9c-91bb-4d25-d621-9dd0f6272a1f"
      },
      "execution_count": null,
      "outputs": [
        {
          "output_type": "stream",
          "name": "stdout",
          "text": [
            "3\n"
          ]
        }
      ]
    },
    {
      "cell_type": "code",
      "source": [
        "class Solution:\n",
        "  def maxGapTest(self, nums):\n",
        "    bin = \"{0:b}\".format(nums)\n",
        "    max_gap = 0\n",
        "    accum = 0\n",
        "    for i in bin:\n",
        "      if i == '0':\n",
        "        accum += 1\n",
        "      elif i == '1':\n",
        "        if accum > max_gap:\n",
        "          max_gap = accum\n",
        "        accum = 0\n",
        "    return max_gap\n",
        "\n",
        "s = Solution()\n",
        "print(s.maxGapTest(1041))\n"
      ],
      "metadata": {
        "colab": {
          "base_uri": "https://localhost:8080/"
        },
        "id": "ExM2HeOPzarq",
        "outputId": "e1447faf-c8c1-4378-d901-e65a0061c190"
      },
      "execution_count": null,
      "outputs": [
        {
          "output_type": "stream",
          "name": "stdout",
          "text": [
            "5\n"
          ]
        }
      ]
    },
    {
      "cell_type": "code",
      "source": [
        "bin = \"{0:b}\".format(1041)\n",
        "print(bin)\n"
      ],
      "metadata": {
        "colab": {
          "base_uri": "https://localhost:8080/"
        },
        "id": "wMIZ-O1c2gCz",
        "outputId": "7e26ed9f-4097-40fa-94b0-cd41026b1f7a"
      },
      "execution_count": null,
      "outputs": [
        {
          "output_type": "stream",
          "name": "stdout",
          "text": [
            "10000010001\n"
          ]
        }
      ]
    },
    {
      "cell_type": "code",
      "source": [
        "def maxCounters(N, A):\n",
        "    counters = [0] * N\n",
        "    max_counter = 0   # Used to keep track of the maximum counter value\n",
        "    current_max = 0   # Used to keep the current maximum counter value after max_counter operation\n",
        "\n",
        "    for command in A:\n",
        "        if 1 <= command <= N:\n",
        "            if counters[command - 1] < max_counter:\n",
        "                counters[command - 1] = max_counter\n",
        "            counters[command - 1] += 1\n",
        "            if counters[command - 1] > current_max:\n",
        "                current_max = counters[command - 1]\n",
        "        elif command == N + 1:\n",
        "            max_counter = current_max\n",
        "\n",
        "    # Finalize all values that are below the max_counter\n",
        "    for i in range(N):\n",
        "        if counters[i] < max_counter:\n",
        "            counters[i] = max_counter\n",
        "\n",
        "    return counters\n",
        "\n",
        "# Example usage\n",
        "N = 3\n",
        "A = [3, 4, 4, 6, 1, 4, 4]\n",
        "print(maxCounters(N, A))  # Output: [3, 2, 2, 4, 2]\n",
        "\n",
        "\n",
        "\n"
      ],
      "metadata": {
        "colab": {
          "base_uri": "https://localhost:8080/"
        },
        "id": "C9HX9oBt-JK3",
        "outputId": "1951c20b-ad79-4033-f5a8-c00cae6e6885"
      },
      "execution_count": null,
      "outputs": [
        {
          "output_type": "stream",
          "name": "stdout",
          "text": [
            "[2, 2, 2]\n"
          ]
        }
      ]
    },
    {
      "cell_type": "code",
      "source": [
        "class Solution:\n",
        "  def tapeEquilibrium(self, A):\n",
        "    chop_1= A[0]\n",
        "    chop_2=sum(A[1:])\n",
        "    min_diff = abs(chop_1-chop_2)\n",
        "    for i in range(1, len(A)-1):\n",
        "      chop_1 += A[i]\n",
        "      chop_2 -= A[i]\n",
        "      diff = abs(chop_1-chop_2)\n",
        "      if diff < min_diff:\n",
        "        min_diff = diff\n",
        "\n",
        "    return min_diff\n",
        "\n",
        "s = Solution()\n",
        "print(s.tapeEquilibrium([3,1,2,4,3]))\n"
      ],
      "metadata": {
        "id": "uxDf5j8c-LdY"
      },
      "execution_count": null,
      "outputs": []
    },
    {
      "cell_type": "code",
      "source": [
        "def smallMissing(nums):\n",
        "  seen=set()\n",
        "  for i in nums:\n",
        "    seen.add(i)\n",
        "\n",
        "  smallest_missing =1\n",
        "  while smallest_missing in seen:\n",
        "    smallest_missing += 1\n",
        "  return smallest_missing\n"
      ],
      "metadata": {
        "id": "zUpy-wFaOSty"
      },
      "execution_count": null,
      "outputs": []
    },
    {
      "cell_type": "code",
      "source": [
        "class Solution:\n",
        "  def reverse(self,nums, start,end):\n",
        "    while start < end:\n",
        "      nums[start], nums[end] = nums[end], nums[start]\n",
        "      start +=1\n",
        "      end -=1\n",
        "\n",
        "\n",
        "def rotate(self,nums, k):\n",
        "  N = len(nums)\n",
        "  k = k% N\n",
        "  self.reverse(nums, 0, N-1)\n",
        "  self.reverse(nums, 0, k-1)\n",
        "  self.reverse(nums, k, N-1)"
      ],
      "metadata": {
        "id": "IVhvZ-dgi-C3"
      },
      "execution_count": null,
      "outputs": []
    },
    {
      "cell_type": "code",
      "source": [
        "class Solution:\n",
        "  def maxSum(self, nums):\n",
        "    sum = 0\n",
        "    max_sum = nums[0]\n",
        "    for num in nums:\n",
        "      if sum <0:\n",
        "        sum =0\n",
        "      sum +=num\n",
        "      if sum >max_sum:\n",
        "        max_sum = sum\n",
        "    return max_sum\n",
        "nums = [5,4,-1,7,8]\n",
        "s = Solution()\n",
        "s.maxSum(nums)"
      ],
      "metadata": {
        "id": "blSbKOFyjSsp"
      },
      "execution_count": null,
      "outputs": []
    },
    {
      "cell_type": "code",
      "source": [
        "class Solution:\n",
        "  def zerosAndOnes(self, strs):\n",
        "    size = len(strs)\n",
        "    first = 0\n",
        "    second = size -1\n",
        "    while first < second:\n",
        "      if strs[first] == '0':\n",
        "        first +=1\n",
        "      if strs[second] == '1':\n",
        "        second -=1\n",
        "      if strs[first] == '1' and strs[second] == '0':\n",
        "        strs[first], strs[second] = strs[second], strs[first]\n",
        "        first +=1\n",
        "        second -=1\n",
        "      return strs\n",
        "s = Solution()\n",
        "print(s.zerosAndOnes([0,1,0,1,0,0,1,1,1,0,1,0,1,1,1,1]))"
      ],
      "metadata": {
        "id": "YU1b7ZvJnzjq"
      },
      "execution_count": null,
      "outputs": []
    },
    {
      "cell_type": "code",
      "source": [
        "claas Solutions:\n",
        "def leaders(self, nums):\n",
        "  size = len(nums)\n",
        "  max = nums[size-1]\n",
        "  ans = [num[size-1]]\n",
        "  for i in range (size-2, -1,-1):\n",
        "    if nums[i] >= max\n",
        "      ans.append(nums[i])\n",
        "      max = nums[i]\n",
        "  return ans[::-1]\n",
        "s = Solution()\n",
        "print(s.leaders([16,17,4,3,5,2]))"
      ],
      "metadata": {
        "id": "-CUBm4HkpPNd"
      },
      "execution_count": null,
      "outputs": []
    },
    {
      "cell_type": "code",
      "source": [],
      "metadata": {
        "id": "Rn4bEfmMILg5"
      },
      "execution_count": null,
      "outputs": []
    },
    {
      "cell_type": "code",
      "source": [
        "class Solution:\n",
        "  def findMaxConsecutiveOnes(self, nums):\n",
        "    max_count = 0\n",
        "    count = 0\n",
        "    for num in nums:\n",
        "      if num ==1 :\n",
        "        count +=1\n",
        "      else:\n",
        "        count =0\n",
        "\n",
        "      if count > max_count:\n",
        "        max_count = count\n",
        "\n",
        "    return max_count\n",
        "\n",
        "s = Solution()\n",
        "print(s.findMaxConsecutiveOnes([1,1,0,1,1,1]))"
      ],
      "metadata": {
        "id": "E4MJUzDvs0jy"
      },
      "execution_count": null,
      "outputs": []
    },
    {
      "cell_type": "code",
      "source": [
        "def fib(n):\n",
        "  if n <=1:\n",
        "    return n\n",
        "  return fib(n-1) + fib(n-2)\n",
        "\n",
        "print(fib(10))"
      ],
      "metadata": {
        "colab": {
          "base_uri": "https://localhost:8080/"
        },
        "id": "zsg2AcLNt3Z0",
        "outputId": "8b84416a-0ae4-4cd7-e480-bc3a01df02fa"
      },
      "execution_count": null,
      "outputs": [
        {
          "output_type": "stream",
          "name": "stdout",
          "text": [
            "55\n"
          ]
        }
      ]
    },
    {
      "cell_type": "code",
      "source": [
        "def is_permutation(arr1, arr2):\n",
        "    return sorted(arr1) == sorted(arr2)\n",
        "\n",
        "# Example usage\n",
        "print(is_permutation([1, 2, 3], [3, 1, 2]))  # Output: True\n",
        "print(is_permutation([1, 2, 3], [4, 5, 6]))  # Output: False"
      ],
      "metadata": {
        "colab": {
          "base_uri": "https://localhost:8080/"
        },
        "id": "bqbOieYDFqH4",
        "outputId": "37536761-a4f4-4422-b94c-cb84590a9613"
      },
      "execution_count": null,
      "outputs": [
        {
          "output_type": "stream",
          "name": "stdout",
          "text": [
            "True\n",
            "False\n"
          ]
        }
      ]
    },
    {
      "cell_type": "code",
      "source": [
        "def stone_wall(H):\n",
        "    blocks = 0\n",
        "    prev_height = 0\n",
        "    for height in H:\n",
        "        if height > prev_height:\n",
        "            blocks += height - prev_height\n",
        "        prev_height = height\n",
        "    return blocks\n",
        "\n",
        "# Example usage\n",
        "print(stone_wall([8, 8, 5, 7, 9, 8, 7, 4, 8]))  # Output: 7\n"
      ],
      "metadata": {
        "id": "T4Sw0CaWIORY"
      },
      "execution_count": null,
      "outputs": []
    },
    {
      "cell_type": "code",
      "source": [
        "def count_factors(N):\n",
        "  count = 0\n",
        "  sqnt_N = int(N ** 0.5)\n",
        "  print(sqnt_N)\n",
        "  for i in range(1, sqnt_N + 1):\n",
        "    if N % i == 0:\n",
        "      count += 2 if i != N // i else 1\n",
        "  return count\n",
        "\n",
        "# Example usage\n",
        "print(count_factors(5))  # Output: 8\n",
        "\n"
      ],
      "metadata": {
        "colab": {
          "base_uri": "https://localhost:8080/"
        },
        "id": "qT522Zn8Lw9R",
        "outputId": "e71dc0b5-ddb5-4fff-8d9b-540e6783ffcd"
      },
      "execution_count": null,
      "outputs": [
        {
          "output_type": "stream",
          "name": "stdout",
          "text": [
            "2\n",
            "2\n"
          ]
        }
      ]
    },
    {
      "cell_type": "code",
      "source": [
        "from datetime import datetime\n",
        "import time\n",
        "def calculate_parking_fee(entry_time, exit_time):\n",
        "    # Convert the entry and exit times to datetime objects\n",
        "    entry_datetime = datetime.strptime(entry_time, \"%Y-%m-%d %H:%M:%S\")\n",
        "    exit_datetime = datetime.strptime(exit_time, \"%Y-%m-%d %H:%M:%S\")\n",
        "    time_diff = exit_datetime - entry_datetime\n",
        "    # Calculate the parking fee based on the time difference\n",
        "    total_second = time_diff.total_seconds()\n",
        "    fee = 2\n",
        "    while total_second > 0:\n",
        "      if total_second > 3600:\n",
        "        total_second -= 3600\n",
        "        fee += 4\n",
        "      else:\n",
        "        fee += 3\n",
        "        total_second -= 3600\n",
        "    return fee\n",
        "\n",
        "time_in = '2023-08-01 10:00:00'\n",
        "time_out = '2023-08-01 15:30:00'\n",
        "rate_per_hour = 5\n",
        "\n",
        "payment = calculate_parking_fee(time_in, time_out)\n",
        "print(f\"the payment is ${payment:.2f}\")\n"
      ],
      "metadata": {
        "colab": {
          "base_uri": "https://localhost:8080/"
        },
        "id": "sGavJE8FzxpK",
        "outputId": "7134e01e-6bcb-4b95-9af2-6349592a100c"
      },
      "execution_count": null,
      "outputs": [
        {
          "output_type": "stream",
          "name": "stdout",
          "text": [
            "the payment is $25.00\n"
          ]
        }
      ]
    },
    {
      "cell_type": "code",
      "source": [
        "class Solution:\n",
        "  def reverseList(self, head):\n",
        "    prev = None\n",
        "    curr = head\n",
        "    while curr:\n",
        "      next = curr.next\n",
        "      curr.next = prev\n",
        "      prev = curr\n",
        "      curr = next\n",
        "    return prev"
      ],
      "metadata": {
        "id": "eAOYqQ8JHJT1"
      },
      "execution_count": null,
      "outputs": []
    },
    {
      "cell_type": "code",
      "source": [
        "class Solution:\n",
        "  def factorial(self, n):\n",
        "    if n == 0:\n",
        "      return 1\n",
        "    return n * self.factorial(n-1)"
      ],
      "metadata": {
        "id": "aEaV3zE3LRxR"
      },
      "execution_count": null,
      "outputs": []
    },
    {
      "cell_type": "code",
      "source": [
        "import time\n",
        "import datetime\n",
        "\n",
        "print(datetime.datetime.now())"
      ],
      "metadata": {
        "colab": {
          "base_uri": "https://localhost:8080/"
        },
        "id": "JslHbvdROx9e",
        "outputId": "d30b7b0d-04e7-406d-ee7e-a345dc10f268"
      },
      "execution_count": null,
      "outputs": [
        {
          "output_type": "stream",
          "name": "stdout",
          "text": [
            "2024-08-02 17:57:48.861587\n"
          ]
        }
      ]
    },
    {
      "cell_type": "code",
      "source": [
        "year = datetime.datetime.today().strftime('%Y')\n",
        "print(year)"
      ],
      "metadata": {
        "colab": {
          "base_uri": "https://localhost:8080/"
        },
        "id": "o-USexgwPbHy",
        "outputId": "cb4179ef-6136-4f36-a025-be662b6956eb"
      },
      "execution_count": null,
      "outputs": [
        {
          "output_type": "stream",
          "name": "stdout",
          "text": [
            "2024\n"
          ]
        }
      ]
    },
    {
      "cell_type": "code",
      "source": [
        "year_b = datetime.datetime.today().strftime('%B')\n",
        "print(year_b)"
      ],
      "metadata": {
        "colab": {
          "base_uri": "https://localhost:8080/"
        },
        "id": "oaBVs682P6Zm",
        "outputId": "7c6bd2b2-4fa6-45b0-dab6-d0d3142ba6c8"
      },
      "execution_count": null,
      "outputs": [
        {
          "output_type": "stream",
          "name": "stdout",
          "text": [
            "August\n"
          ]
        }
      ]
    },
    {
      "cell_type": "code",
      "source": [
        "class Solution:\n",
        "  def reversed(self, )"
      ],
      "metadata": {
        "colab": {
          "base_uri": "https://localhost:8080/",
          "height": 106
        },
        "id": "d5Rcry-SiWM3",
        "outputId": "bbc762cd-c8a3-4a24-a4ff-5dc7a0ea5953"
      },
      "execution_count": null,
      "outputs": [
        {
          "output_type": "error",
          "ename": "SyntaxError",
          "evalue": "incomplete input (<ipython-input-4-86a98d319937>, line 1)",
          "traceback": [
            "\u001b[0;36m  File \u001b[0;32m\"<ipython-input-4-86a98d319937>\"\u001b[0;36m, line \u001b[0;32m1\u001b[0m\n\u001b[0;31m    class Solution:\u001b[0m\n\u001b[0m                   ^\u001b[0m\n\u001b[0;31mSyntaxError\u001b[0m\u001b[0;31m:\u001b[0m incomplete input\n"
          ]
        }
      ]
    },
    {
      "cell_type": "code",
      "source": [
        "nums = [\"flo\",\"fla\", \"flow\"]\n",
        "from itertools import takewhile\n",
        "\n",
        "touch =zip(*nums)\n",
        "a =''.join(i[0] for i in takewhile(lambda x : len(set(x))==1,touch))\n",
        "print(a)\n",
        "\n"
      ],
      "metadata": {
        "colab": {
          "base_uri": "https://localhost:8080/"
        },
        "id": "xTDnlqbqiZvA",
        "outputId": "d61f8c66-6d3a-4586-9f01-5eb6af98ea61"
      },
      "execution_count": null,
      "outputs": [
        {
          "output_type": "stream",
          "name": "stdout",
          "text": [
            "fl\n"
          ]
        }
      ]
    },
    {
      "cell_type": "code",
      "source": [
        "def solution(A):\n",
        "    costs = [2,7, 25]\n",
        "    last_day =A[-1]\n",
        "    dp = [0]* (last_day+1)\n",
        "    travel_days = set(A)\n",
        "\n",
        "    for i in range (1, last_day +1):\n",
        "        if i not in travel_days:\n",
        "            dp[i] =dp[i-1]\n",
        "        else:\n",
        "            dp[i] = min(dp[i-1] + costs[0],\n",
        "            dp[max(0, i-7)]+costs[1],dp[max(0, i-30)]+costs[2])\n",
        "\n",
        "    return dp[last_day]\n",
        "\n",
        "A= [1,2,4,5,7,29,30]\n",
        "print(solution(A))"
      ],
      "metadata": {
        "colab": {
          "base_uri": "https://localhost:8080/"
        },
        "id": "eugz8sr5Ep4-",
        "outputId": "f1f936b6-d38a-4688-9732-9977c4a8b13a"
      },
      "execution_count": null,
      "outputs": [
        {
          "output_type": "stream",
          "name": "stdout",
          "text": [
            "11\n"
          ]
        }
      ]
    },
    {
      "cell_type": "code",
      "source": [
        "def solution(A, B):\n",
        "    # Implement your solution here\n",
        "    str_a = str(A)\n",
        "    str_b = str(B)\n",
        "\n",
        "    zip_num = ''.join(x+y for x, y in zip(str_a,str_b))\n",
        "\n",
        "    remain_num = str_a[len(str_b):] if len(str_a)>len(str_b) else str_b[len(str_a):]\n",
        "\n",
        "    result = zip_num + remain_num\n",
        "\n",
        "    return int(result)"
      ],
      "metadata": {
        "id": "FbDvSQoGHvly"
      },
      "execution_count": null,
      "outputs": []
    }
  ]
}