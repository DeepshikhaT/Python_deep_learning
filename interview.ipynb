{
  "nbformat": 4,
  "nbformat_minor": 0,
  "metadata": {
    "colab": {
      "provenance": [],
      "authorship_tag": "ABX9TyOcTrJejBw6QInIAZV/BNZu",
      "include_colab_link": true
    },
    "kernelspec": {
      "name": "python3",
      "display_name": "Python 3"
    },
    "language_info": {
      "name": "python"
    }
  },
  "cells": [
    {
      "cell_type": "markdown",
      "metadata": {
        "id": "view-in-github",
        "colab_type": "text"
      },
      "source": [
        "<a href=\"https://colab.research.google.com/github/DeepshikhaT/Python_deep_learning/blob/main/interview.ipynb\" target=\"_parent\"><img src=\"https://colab.research.google.com/assets/colab-badge.svg\" alt=\"Open In Colab\"/></a>"
      ]
    },
    {
      "cell_type": "code",
      "execution_count": null,
      "metadata": {
        "id": "GbWXxCuGRwlW"
      },
      "outputs": [],
      "source": [
        "from numbers import Real\n",
        "\n",
        "class Vector:\n",
        "    def __init__(self, *components):\n",
        "        # validate number of components is at least one, and all of them are real numbers\n",
        "        if len(components) < 1:\n",
        "            raise ValueError('Cannot create an empty Vector.')\n",
        "        for component in components:\n",
        "            if not isinstance(component, Real):\n",
        "                raise ValueError(f'Vector components must all be real numbers - {component} is invalid.')\n",
        "\n",
        "        # use immutable storage for vector\n",
        "        self._components = tuple(components)\n",
        "\n",
        "    def __len__(self):\n",
        "        return len(self._components)\n",
        "\n",
        "    @property\n",
        "    def components(self):\n",
        "        return self._components\n",
        "\n",
        "    def __repr__(self):\n",
        "        # works - but unwieldy for high dimension vectors\n",
        "        return f'Vector{self._components}'\n",
        "\n",
        "    def validate_type_and_dimension(self, v):\n",
        "        print(v)\n",
        "        return isinstance(v, Vector) and len(v) == len(self)\n",
        "\n",
        "    def __add__(self, other):\n",
        "        if not self.validate_type_and_dimension(other):\n",
        "            return NotImplemented\n",
        "        components = (x + y for x, y in zip(self.components, other.components))\n",
        "        return Vector(*components)\n",
        "\n",
        "    def __sub__(self, other):\n",
        "        if not self.validate_type_and_dimension(other):\n",
        "            return NotImplemented\n",
        "        components = (x - y for x, y in zip(self.components, other.components))\n",
        "        return Vector(*components)\n",
        "\n",
        "v1 = Vector(1, 2)\n",
        "v2 = Vector(10, 10)\n",
        "v3 = Vector(1, 2, 3, 4)"
      ]
    },
    {
      "cell_type": "code",
      "source": [
        "class Solution(object):\n",
        "    def jump(self, nums):\n",
        "        \"\"\"\n",
        "        :type nums: List[int]\n",
        "        :rtype: int\n",
        "        \"\"\"\n",
        "        x = [nums[i]+i for i in range(len(nums))]\n",
        "        print(x)\n",
        "        l,r,jumps = 0,0,0\n",
        "        while r < len(nums) - 1:\n",
        "            jumps += 1\n",
        "            l,r = r+1, max(x[l:r+1])\n",
        "\n",
        "        return jumps\n",
        "\n",
        "s = Solution()\n",
        "s.jump([2,3,1,8])"
      ],
      "metadata": {
        "colab": {
          "base_uri": "https://localhost:8080/"
        },
        "id": "xSP-3L8rN_KS",
        "outputId": "02814aea-dfc3-471f-9f1f-30661a9baae1"
      },
      "execution_count": null,
      "outputs": [
        {
          "output_type": "stream",
          "name": "stdout",
          "text": [
            "[2, 4, 3, 11]\n"
          ]
        },
        {
          "output_type": "execute_result",
          "data": {
            "text/plain": [
              "2"
            ]
          },
          "metadata": {},
          "execution_count": 5
        }
      ]
    },
    {
      "cell_type": "code",
      "source": [
        "def isPalindrome(x):\n",
        "    \"\"\"\n",
        "    :type x: str\n",
        "    :rtype: bool\n",
        "    \"\"\"\n",
        "    if len(x) == 0:\n",
        "        return True\n",
        "\n",
        "    if x[0] != x[-1]:\n",
        "        return False\n",
        "\n",
        "    return isPalindrome(x[1:-1])\n",
        "\n",
        "\n",
        "isPalindrome(\"aba\")"
      ],
      "metadata": {
        "id": "McT-lV5nttxj",
        "colab": {
          "base_uri": "https://localhost:8080/"
        },
        "outputId": "35701ddc-d719-4376-e22a-a6c7acfc2971"
      },
      "execution_count": null,
      "outputs": [
        {
          "output_type": "execute_result",
          "data": {
            "text/plain": [
              "True"
            ]
          },
          "metadata": {},
          "execution_count": 1
        }
      ]
    },
    {
      "cell_type": "code",
      "source": [
        "def isPalindrome(x):\n",
        "    \"\"\"\n",
        "    :type x: str\n",
        "    :rtype: bool\n",
        "    \"\"\"\n",
        "    str1 = \"\".join([i for i in x if i.isalnum()]).lower()\n",
        "    print(str1)\n",
        "    print(str1[::-1])\n",
        "    str1 = \"\".join(str1).lower()\n",
        "    return str1 == str1[::-1]\n",
        "\n",
        "isPalindrome(\"ar, ra\")"
      ],
      "metadata": {
        "id": "yTBWgKEKt1gp",
        "colab": {
          "base_uri": "https://localhost:8080/"
        },
        "outputId": "ea2a4074-4941-463d-c316-59b49173cb98"
      },
      "execution_count": null,
      "outputs": [
        {
          "output_type": "stream",
          "name": "stdout",
          "text": [
            "arra\n",
            "arra\n"
          ]
        },
        {
          "output_type": "execute_result",
          "data": {
            "text/plain": [
              "True"
            ]
          },
          "metadata": {},
          "execution_count": 10
        }
      ]
    },
    {
      "cell_type": "code",
      "source": [
        "from ast import operator\n",
        "d = {\n",
        "    \"a\": 1,\n",
        "    \"b\": 2,\n",
        "    \"c\": 3\n",
        "}\n",
        "print(d)\n",
        "sorted(d , key=lambda d : d,reverse= True)"
      ],
      "metadata": {
        "colab": {
          "base_uri": "https://localhost:8080/"
        },
        "id": "Bks10P5NvnEU",
        "outputId": "4f51b347-22e9-4a10-dea2-fc53036dd3ff"
      },
      "execution_count": null,
      "outputs": [
        {
          "output_type": "stream",
          "name": "stdout",
          "text": [
            "{'a': 1, 'b': 2, 'c': 3}\n"
          ]
        },
        {
          "output_type": "execute_result",
          "data": {
            "text/plain": [
              "['c', 'b', 'a']"
            ]
          },
          "metadata": {},
          "execution_count": 1
        }
      ]
    },
    {
      "cell_type": "code",
      "source": [
        "class Solution(object):\n",
        "    def hIndex(self, citations):\n",
        "        \"\"\"\n",
        "        :type citations: List[int]\n",
        "        :rtype: int\n",
        "        \"\"\"\n",
        "        citations.sort(reversed=True)\n",
        "\n",
        "        n = len(citations)\n",
        "        h = 0\n",
        "        for i in range(n):\n",
        "            if citations[i] >=i+1:\n",
        "                h = i+1\n",
        "        return h\n",
        "\n",
        "print(s.hIndex([3,0,6,1,5]))"
      ],
      "metadata": {
        "colab": {
          "base_uri": "https://localhost:8080/"
        },
        "id": "Xq4rdCv9ui3I",
        "outputId": "ecc7190f-c694-4348-9b6c-2285b106ec1f"
      },
      "execution_count": null,
      "outputs": [
        {
          "output_type": "stream",
          "name": "stdout",
          "text": [
            "2\n",
            "3\n",
            "4\n",
            "0\n"
          ]
        }
      ]
    },
    {
      "cell_type": "code",
      "source": [
        "h = [3,0,6,1,5]\n",
        "h.sort(reverse=True)\n",
        "print(h)\n",
        "#"
      ],
      "metadata": {
        "colab": {
          "base_uri": "https://localhost:8080/"
        },
        "id": "7KNBb-uSTIkI",
        "outputId": "a8f9b673-e403-4e95-9459-9d365a851320"
      },
      "execution_count": null,
      "outputs": [
        {
          "output_type": "stream",
          "name": "stdout",
          "text": [
            "[6, 5, 3, 1, 0]\n"
          ]
        }
      ]
    },
    {
      "cell_type": "code",
      "source": [
        "import random\n",
        "class RandomizedSet(object):\n",
        "\n",
        "    def __init__(self):\n",
        "        \"\"\"\n",
        "        Initialize your data structure here.\n",
        "        \"\"\"\n",
        "        self.val_to_index = {}\n",
        "        self.values = []\n",
        "\n",
        "    def insert(self,val):\n",
        "      if val in self.val_to_index:\n",
        "        return False\n",
        "      self.values.append(val)\n",
        "      self.val_to_index[val] = len(self.values)\n",
        "      return True\n",
        "\n",
        "    def remove(self, val):\n",
        "      if val not in self.val_to_index:\n",
        "        return False\n",
        "      las_element = self.values[-1] # 5\n",
        "      index_to_remove = self.val_to_index[val] #2\n",
        "      self.values[index_to_remove] = las_element #5\n",
        "      self.val_to_index[las_element] = index_to_remove # 5 ==2\n",
        "      self.values.pop()\n",
        "      del self.val_to_index[val]\n",
        "      return True\n",
        "\n",
        "    def getRandom(self):\n",
        "      return random.choice(self.values)\n",
        "\n"
      ],
      "metadata": {
        "id": "sabrX7U0TlTU"
      },
      "execution_count": null,
      "outputs": []
    }
  ]
}